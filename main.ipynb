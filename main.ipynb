{
 "cells": [
  {
   "cell_type": "code",
   "execution_count": null,
   "metadata": {},
   "outputs": [],
   "source": [
    "#IMPORTS\n",
    "import pathlib\n",
    "import wget\n",
    "import scipy.io as sio\n",
    "import matplotlib.pyplot as plt"
   ]
  },
  {
   "cell_type": "code",
   "execution_count": null,
   "metadata": {},
   "outputs": [],
   "source": [
    "'''\n",
    "\n",
    "SVHN DATASET DOWNLOADING\n",
    "\n",
    "'''\n",
    "\n",
    "path = str(pathlib.Path().absolute())\n",
    "\n",
    "url_train = 'http://ufldl.stanford.edu/housenumbers/train_32x32.mat'\n",
    "url_test = 'http://ufldl.stanford.edu/housenumbers/test_32x32.mat'\n",
    "\n",
    "wget.download(url_train, path)\n",
    "wget.download(url_test, path)"
   ]
  },
  {
   "cell_type": "code",
   "execution_count": null,
   "metadata": {},
   "outputs": [],
   "source": [
    "'''\n",
    "\n",
    "SVHN DATASET LOADING\n",
    "\n",
    "'''\n",
    "\n",
    "train = sio.loadmat('train_32x32.mat')\n",
    "test = sio.loadmat('test_32x32.mat')"
   ]
  },
  {
   "cell_type": "code",
   "execution_count": null,
   "metadata": {},
   "outputs": [],
   "source": [
    "'''\n",
    "\n",
    "SVHN DATASET SAMPLE SHOWING AND 10-0 LABEL FIXING\n",
    "\n",
    "'''\n",
    "\n",
    "x_train = train['X']\n",
    "y_train = train['y']\n",
    "\n",
    "#replace all 0 images with label 10 with 0s\n",
    "y_train[y_train==10] = 0\n",
    "\n",
    "#show the first 3 examples of the dataset\n",
    "for i in range (0,3):\n",
    "    print(\"Image index: \" + str(i))\n",
    "    plt.imshow(x_train[:,:,:,i])\n",
    "    plt.show()\n",
    "\n",
    "    print(\"Digit Label: \" + str(y_train[i]))\n",
    "    print()\n",
    "\n",
    "#check that the replacemente of all incorrect 10 labels have been replaced with 0s\n",
    "image_ind = 108 #this one is a 0 and the label is specified ad 10, all these cases must be replaced with 0\n",
    "print(\"Image index: \" + str(image_ind))\n",
    "plt.imshow(x_train[:,:,:,image_ind])\n",
    "plt.show()\n",
    "print(\"Digit Label: \" + str(y_train[image_ind]))\n",
    "print()"
   ]
  },
  {
   "cell_type": "code",
   "execution_count": null,
   "metadata": {},
   "outputs": [],
   "source": []
  }
 ],
 "metadata": {
  "kernelspec": {
   "display_name": "Python 3",
   "language": "python",
   "name": "python3"
  },
  "language_info": {
   "codemirror_mode": {
    "name": "ipython",
    "version": 3
   },
   "file_extension": ".py",
   "mimetype": "text/x-python",
   "name": "python",
   "nbconvert_exporter": "python",
   "pygments_lexer": "ipython3",
   "version": "3.8.2"
  }
 },
 "nbformat": 4,
 "nbformat_minor": 4
}
